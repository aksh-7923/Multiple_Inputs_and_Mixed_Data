{
 "cells": [
  {
   "cell_type": "markdown",
   "id": "6cb49096",
   "metadata": {},
   "source": [
    "# Multiple Inputs and Mixed Data"
   ]
  },
  {
   "cell_type": "markdown",
   "id": "22f6a73f",
   "metadata": {},
   "source": [
    "# Step 1 : Importing necessary Dependencies"
   ]
  },
  {
   "cell_type": "code",
   "execution_count": 1,
   "id": "8577faaa",
   "metadata": {},
   "outputs": [],
   "source": [
    "import os\n",
    "import cv2\n",
    "import glob\n",
    "import argparse\n",
    "import numpy as np  \n",
    "import pandas as pd\n",
    "import tensorflow as tf\n",
    "import seaborn as sns\n",
    "import matplotlib.pyplot as plt"
   ]
  },
  {
   "cell_type": "markdown",
   "id": "6829841c",
   "metadata": {},
   "source": [
    "# **Step 2 : Loading the numerical and categorical data**"
   ]
  },
  {
   "cell_type": "code",
   "execution_count": 2,
   "id": "693250b0",
   "metadata": {
    "scrolled": true
   },
   "outputs": [],
   "source": [
    "columns = [\"bedrooms\", \"bathrooms\", \"area\", \"zipcode\", \"price\"]\n",
    "data = pd.read_csv(\"C:\\\\Users\\\\DELL\\\\Downloads\\\\Houses-dataset-master\\\\Houses-dataset-master\\\\Houses Dataset\\\\HousesInfo.txt\", sep = \" \", header = None, names = columns)"
   ]
  },
  {
   "cell_type": "markdown",
   "id": "4755a7c0",
   "metadata": {},
   "source": [
    "# **Step 3 : Data Preprocessing**"
   ]
  },
  {
   "cell_type": "markdown",
   "id": "bfa747a6",
   "metadata": {},
   "source": [
    "**3.1 :- Preprocessing the Numerical and Categorical data**"
   ]
  },
  {
   "cell_type": "markdown",
   "id": "d86762d3",
   "metadata": {},
   "source": [
    " ***3.1.1*** :- *Five top records of data*"
   ]
  },
  {
   "cell_type": "code",
   "execution_count": 3,
   "id": "8602647c",
   "metadata": {},
   "outputs": [
    {
     "data": {
      "text/html": [
       "<div>\n",
       "<style scoped>\n",
       "    .dataframe tbody tr th:only-of-type {\n",
       "        vertical-align: middle;\n",
       "    }\n",
       "\n",
       "    .dataframe tbody tr th {\n",
       "        vertical-align: top;\n",
       "    }\n",
       "\n",
       "    .dataframe thead th {\n",
       "        text-align: right;\n",
       "    }\n",
       "</style>\n",
       "<table border=\"1\" class=\"dataframe\">\n",
       "  <thead>\n",
       "    <tr style=\"text-align: right;\">\n",
       "      <th></th>\n",
       "      <th>bedrooms</th>\n",
       "      <th>bathrooms</th>\n",
       "      <th>area</th>\n",
       "      <th>zipcode</th>\n",
       "      <th>price</th>\n",
       "    </tr>\n",
       "  </thead>\n",
       "  <tbody>\n",
       "    <tr>\n",
       "      <th>0</th>\n",
       "      <td>4</td>\n",
       "      <td>4.0</td>\n",
       "      <td>4053</td>\n",
       "      <td>85255</td>\n",
       "      <td>869500</td>\n",
       "    </tr>\n",
       "    <tr>\n",
       "      <th>1</th>\n",
       "      <td>4</td>\n",
       "      <td>3.0</td>\n",
       "      <td>3343</td>\n",
       "      <td>36372</td>\n",
       "      <td>865200</td>\n",
       "    </tr>\n",
       "    <tr>\n",
       "      <th>2</th>\n",
       "      <td>3</td>\n",
       "      <td>4.0</td>\n",
       "      <td>3923</td>\n",
       "      <td>85266</td>\n",
       "      <td>889000</td>\n",
       "    </tr>\n",
       "    <tr>\n",
       "      <th>3</th>\n",
       "      <td>5</td>\n",
       "      <td>5.0</td>\n",
       "      <td>4022</td>\n",
       "      <td>85262</td>\n",
       "      <td>910000</td>\n",
       "    </tr>\n",
       "    <tr>\n",
       "      <th>4</th>\n",
       "      <td>3</td>\n",
       "      <td>4.0</td>\n",
       "      <td>4116</td>\n",
       "      <td>85266</td>\n",
       "      <td>971226</td>\n",
       "    </tr>\n",
       "  </tbody>\n",
       "</table>\n",
       "</div>"
      ],
      "text/plain": [
       "   bedrooms  bathrooms  area  zipcode   price\n",
       "0         4        4.0  4053    85255  869500\n",
       "1         4        3.0  3343    36372  865200\n",
       "2         3        4.0  3923    85266  889000\n",
       "3         5        5.0  4022    85262  910000\n",
       "4         3        4.0  4116    85266  971226"
      ]
     },
     "execution_count": 3,
     "metadata": {},
     "output_type": "execute_result"
    }
   ],
   "source": [
    "data.head()"
   ]
  },
  {
   "cell_type": "markdown",
   "id": "e6ac7f1b",
   "metadata": {},
   "source": [
    "***3.1.2*** :- ***determine :-***\n",
    "\n",
    "> *   *the unique zip codes*\n",
    "> *   *the number of data points with each zip code*"
   ]
  },
  {
   "cell_type": "code",
   "execution_count": 4,
   "id": "634b483c",
   "metadata": {},
   "outputs": [],
   "source": [
    "zipcodes = data['zipcode'].value_counts().keys().tolist()\n",
    "counts = data['zipcode'].value_counts().tolist()\n"
   ]
  },
  {
   "cell_type": "markdown",
   "id": "0b34b39b",
   "metadata": {},
   "source": [
    "***3.1.3*** :- *loop over each of the unique zip codes and their corresponding count*"
   ]
  },
  {
   "cell_type": "code",
   "execution_count": 5,
   "id": "60ee9bd2",
   "metadata": {},
   "outputs": [],
   "source": [
    "for (zipcode, count) in zip(zipcodes, counts):\n",
    "    if count<25:\n",
    "        idx = data[data[\"zipcode\"] == zipcode].index\n",
    "        data.drop(idx, inplace = True)"
   ]
  },
  {
   "cell_type": "code",
   "execution_count": 6,
   "id": "1d6eddcc",
   "metadata": {},
   "outputs": [],
   "source": [
    "zipcodes = data['zipcode'].value_counts().keys().tolist()"
   ]
  },
  {
   "cell_type": "code",
   "execution_count": 7,
   "id": "f421d0d2",
   "metadata": {},
   "outputs": [],
   "source": [
    "counts = data['zipcode'].value_counts().tolist()"
   ]
  },
  {
   "cell_type": "markdown",
   "id": "3babe57d",
   "metadata": {},
   "source": [
    "***3.1.4*** :- *Scaling and Encoding* "
   ]
  },
  {
   "cell_type": "code",
   "execution_count": 8,
   "id": "9393fa89",
   "metadata": {},
   "outputs": [],
   "source": [
    "from sklearn.preprocessing import StandardScaler\n",
    "from sklearn.preprocessing import LabelBinarizer"
   ]
  },
  {
   "cell_type": "code",
   "execution_count": 9,
   "id": "4e98bc80",
   "metadata": {},
   "outputs": [],
   "source": [
    "def process_house_attributes(data, train, test):\n",
    "    cts_vars = [\"bedrooms\", \"bathrooms\", \"area\"]\n",
    "    \n",
    "    # performin min-max scaling each continuous feature column to the range [0, 1]\n",
    "    \n",
    "    scaler =  StandardScaler()                              \n",
    "    train_cts = scaler.fit_transform(train[cts_vars])                         \n",
    "    test_cts = scaler.transform(test[cts_vars])\n",
    "    \n",
    "    \n",
    "    # one-hot encode the zip code categorical data (by definition of\n",
    "    # one-hot encoding, all output features are now in the range [0, 1])\n",
    "    \n",
    "    binarizer = LabelBinarizer()\n",
    "    binarizer.fit(data[\"zipcode\"])\n",
    "    train_cat = binarizer.transform(train[\"zipcode\"])\n",
    "    test_cat = binarizer.transform(test[\"zipcode\"])\n",
    "    \n",
    "    # construct our training and testing data points by concatenating\n",
    "    # the categorical features with the continuous features\n",
    "    \n",
    "    trainX = np.hstack([train_cat, train_cts])\n",
    "    testX = np.hstack([test_cat, test_cts])\n",
    "    \n",
    "    return(trainX, testX)"
   ]
  },
  {
   "cell_type": "markdown",
   "id": "6b2997b0",
   "metadata": {},
   "source": [
    "# **Step 4 : Loading the image dataset**"
   ]
  },
  {
   "cell_type": "code",
   "execution_count": 10,
   "id": "58ca6d23",
   "metadata": {},
   "outputs": [],
   "source": [
    "images = []\n",
    "\n",
    "\n",
    "# loop over the indexes of the houses\n",
    "    \n",
    "for i in data.index.values:\n",
    "    # find the four images for the house and sort the file paths,\n",
    "    # ensuring the four are always in the *same order*\n",
    "    basePath = os.path.sep.join([\"C:\\\\Users\\\\DELL\\\\Downloads\\\\Houses-dataset-master\\\\Houses-dataset-master\\\\Houses Dataset\", \"{}_*\".format(i + 1)])\n",
    "    housePaths = sorted(list(glob.glob(basePath)))\n",
    "    \n",
    "    # initialize our list of input images along with the output image\n",
    "    # after *combining* the four input images\n",
    "    inputImages = []\n",
    "    outputImage = np.zeros((64,64,3), dtype=\"uint8\")\n",
    "\n",
    "    # loop over the input house paths\n",
    "    \n",
    "    for housePath in housePaths:\n",
    "        # load the input image, resize it to be 32 32, and then update the list of input images\n",
    "        image = cv2.imread(housePath)\n",
    "        image = cv2.resize(image, (32, 32))\n",
    "        inputImages.append(image)\n",
    "        \n",
    "    # tile the four input images in the output image such the first\n",
    "    # image goes in the top-right corner, the second image in the\n",
    "    # top-left corner, the third image in the bottom-right corner,\n",
    "    # and the final image in the bottom-left corner\n",
    "    \n",
    "    outputImage[0:32, 0:32] = inputImages[0]\n",
    "    outputImage[0:32, 32:64] = inputImages[1]\n",
    "    outputImage[32:64, 32:64] = inputImages[2]\n",
    "    outputImage[32:64, 0:32] = inputImages[3]\n",
    "    \n",
    "    # add the tiled image to our set of images the network will be trained on\n",
    "    images.append(outputImage)\n",
    "    \n",
    "#scale the pixel intensities to the range [0, 1]    \n",
    "images = np.array(images)    \n",
    "images = images/255.0"
   ]
  },
  {
   "cell_type": "markdown",
   "id": "03ad8f28",
   "metadata": {},
   "source": [
    "# Step-5: Splitting our dataset into Train and Test Subset"
   ]
  },
  {
   "cell_type": "code",
   "execution_count": 11,
   "id": "234dd5be",
   "metadata": {},
   "outputs": [],
   "source": [
    "from sklearn.model_selection import train_test_split \n",
    "trainAttrX, testAttrX, trainImagesX, testImagesX = train_test_split(data, images, test_size=0.25, random_state=0)"
   ]
  },
  {
   "cell_type": "markdown",
   "id": "348071dd",
   "metadata": {},
   "source": [
    "# * Step 1.2 : Importing necessary Dependencies"
   ]
  },
  {
   "cell_type": "code",
   "execution_count": 12,
   "id": "06e8f5cb",
   "metadata": {},
   "outputs": [],
   "source": [
    "from tensorflow.keras.models import Sequential\n",
    "from tensorflow.keras.layers import BatchNormalization\n",
    "from tensorflow.keras.layers import Conv2D\n",
    "from tensorflow.keras.layers import MaxPooling2D\n",
    "from tensorflow.keras.layers import Activation\n",
    "from tensorflow.keras.layers import Dropout\n",
    "from tensorflow.keras.layers import Dense\n",
    "from tensorflow.keras.layers import Flatten\n",
    "from tensorflow.keras.layers import Input\n",
    "from tensorflow.keras.models import Model\n",
    "from tensorflow.keras.optimizers import Adam\n",
    "from tensorflow.keras.layers import concatenate"
   ]
  },
  {
   "cell_type": "markdown",
   "id": "999084af",
   "metadata": {},
   "source": [
    "# Step 6 : **Model Building**"
   ]
  },
  {
   "cell_type": "markdown",
   "id": "86e08104",
   "metadata": {},
   "source": [
    " **Step 6.1** : **Building the First Branch (Artificial Neural Network)** of our model to handel the **numerical** and **categorical data**"
   ]
  },
  {
   "cell_type": "code",
   "execution_count": 13,
   "id": "8e785e0a",
   "metadata": {},
   "outputs": [],
   "source": [
    "def ANN(dim):\n",
    "    ann = tf.keras.models.Sequential()\n",
    "    ann.add(tf.keras.layers.Dense(units = 16, activation = \"relu\", input_dim = dim))\n",
    "    ann.add(tf.keras.layers.Dense(units = 8, activation = \"relu\"))\n",
    "    ann.add(tf.keras.layers.Dense(units = 4, activation = \"relu\"))\n",
    "    \n",
    "    return ann"
   ]
  },
  {
   "cell_type": "markdown",
   "id": "5518f034",
   "metadata": {},
   "source": [
    " **Step 6.2** : **Building the Second Branch (Cnvolutional Neural Network)** of our model to handel the **numerical** and **categorical data**"
   ]
  },
  {
   "cell_type": "code",
   "execution_count": 14,
   "id": "e09d0e13",
   "metadata": {},
   "outputs": [],
   "source": [
    "def CNN(width, height, depth):\n",
    "    Inputshape = list([height, width, depth])\n",
    "    cnn = tf.keras.models.Sequential()\n",
    "    cnn.add(tf.keras.layers.Conv2D(filters = 16, kernel_size = 3, activation = 'relu', padding = 'same', input_shape=Inputshape  ))\n",
    "    cnn.add(tf.keras.layers.BatchNormalization(axis = -1))\n",
    "    cnn.add(tf.keras.layers.MaxPooling2D(pool_size = (2,2)))\n",
    "\n",
    "    cnn.add(tf.keras.layers.Conv2D(filters = 32, kernel_size = 3, activation = 'relu', padding = 'same'))\n",
    "    cnn.add(tf.keras.layers.BatchNormalization(axis = -1))\n",
    "    cnn.add(tf.keras.layers.MaxPooling2D(pool_size = (2,2)))\n",
    "    \n",
    "    cnn.add(tf.keras.layers.Conv2D(filters = 64, kernel_size = 3, activation = 'relu', padding = 'same'))\n",
    "    cnn.add(tf.keras.layers.BatchNormalization(axis = -1))\n",
    "    cnn.add(tf.keras.layers.MaxPooling2D(pool_size = (2,2)))\n",
    "    \n",
    "    cnn.add(tf.keras.layers.Flatten())       \n",
    "    cnn.add(tf.keras.layers.Dense(units = 16, activation = \"relu\"))\n",
    "    cnn.add(tf.keras.layers.BatchNormalization(axis = -1))\n",
    "    cnn.add(tf.keras.layers.Dropout(rate =  0.2))\n",
    "            \n",
    "    cnn.add(tf.keras.layers.Dense(units = 4, activation = \"relu\"))\n",
    "    \n",
    "    return cnn"
   ]
  },
  {
   "cell_type": "markdown",
   "id": "3e3aeedf",
   "metadata": {},
   "source": [
    " ****Scaling our house prices to the range [0, 1]***  "
   ]
  },
  {
   "cell_type": "code",
   "execution_count": 15,
   "id": "62ef8f1b",
   "metadata": {},
   "outputs": [],
   "source": [
    "maxPrice = trainAttrX[\"price\"].max()\n",
    "trainY = trainAttrX[\"price\"] / maxPrice\n",
    "testY = testAttrX[\"price\"] / maxPrice"
   ]
  },
  {
   "cell_type": "markdown",
   "id": "5af2b060",
   "metadata": {},
   "source": [
    "*Calling the **process_house_attributes** function to process the data*"
   ]
  },
  {
   "cell_type": "code",
   "execution_count": 16,
   "id": "ed5d794f",
   "metadata": {},
   "outputs": [],
   "source": [
    "(trainAttrX, testAttrX) = process_house_attributes(data,trainAttrX, testAttrX)"
   ]
  },
  {
   "cell_type": "code",
   "execution_count": 17,
   "id": "effa6df4",
   "metadata": {},
   "outputs": [
    {
     "data": {
      "text/plain": [
       "(271, 10)"
      ]
     },
     "execution_count": 17,
     "metadata": {},
     "output_type": "execute_result"
    }
   ],
   "source": [
    "trainAttrX.shape"
   ]
  },
  {
   "cell_type": "markdown",
   "id": "042606a9",
   "metadata": {},
   "source": [
    "**Step 6.3 : Create the ANN and CNN models**"
   ]
  },
  {
   "cell_type": "code",
   "execution_count": 18,
   "id": "84988c6f",
   "metadata": {},
   "outputs": [],
   "source": [
    "ann = ANN(trainAttrX.shape[1])\n",
    "cnn = CNN(64, 64, 3)"
   ]
  },
  {
   "cell_type": "markdown",
   "id": "131cdc31",
   "metadata": {},
   "source": [
    "**Step 6.4 : Create the input to our final set of layers as the output of both the ANN and CNN**"
   ]
  },
  {
   "cell_type": "code",
   "execution_count": 19,
   "id": "33b482cf",
   "metadata": {},
   "outputs": [
    {
     "data": {
      "text/plain": [
       "tensorflow.python.keras.engine.keras_tensor.KerasTensor"
      ]
     },
     "execution_count": 19,
     "metadata": {},
     "output_type": "execute_result"
    }
   ],
   "source": [
    "combinedInput = concatenate([ann.output, cnn.output])\n",
    "type(combinedInput)"
   ]
  },
  {
   "cell_type": "markdown",
   "id": "e4c32a3c",
   "metadata": {},
   "source": [
    "**Step 6.5 : Creating the final FC layer**"
   ]
  },
  {
   "cell_type": "code",
   "execution_count": 20,
   "id": "4f5f497f",
   "metadata": {},
   "outputs": [],
   "source": [
    "x = tf.keras.layers.Dense(4, activation=\"relu\")(combinedInput)\n",
    "x = tf.keras.layers.Dense(1, activation=\"linear\")(x)\n",
    "\n",
    "# Our final model will accept categorical/numerical data on the ANN input and \n",
    "# images on the CNN input, outputting a single value\n",
    "model = Model(inputs=[ann.input, cnn.input], outputs=x)"
   ]
  },
  {
   "cell_type": "markdown",
   "id": "42770045",
   "metadata": {},
   "source": [
    " **Step 6.6 : Compiling our model**"
   ]
  },
  {
   "cell_type": "code",
   "execution_count": 21,
   "id": "c85ae778",
   "metadata": {},
   "outputs": [
    {
     "name": "stderr",
     "output_type": "stream",
     "text": [
      "C:\\Users\\DELL\\anaconda3\\lib\\site-packages\\tensorflow\\python\\keras\\optimizer_v2\\optimizer_v2.py:374: UserWarning: The `lr` argument is deprecated, use `learning_rate` instead.\n",
      "  warnings.warn(\n"
     ]
    }
   ],
   "source": [
    "opt = Adam(lr=1e-3, decay=1e-3 / 200)\n",
    "model.compile(loss=\"mean_squared_error\", optimizer=opt)"
   ]
  },
  {
   "cell_type": "markdown",
   "id": "caa01e3a",
   "metadata": {},
   "source": [
    "# Step 7 : Training the Model"
   ]
  },
  {
   "cell_type": "code",
   "execution_count": 22,
   "id": "60a4f6db",
   "metadata": {
    "scrolled": false
   },
   "outputs": [
    {
     "name": "stdout",
     "output_type": "stream",
     "text": [
      "Epoch 1/200\n",
      "27/27 [==============================] - 2s 54ms/step - loss: 0.2510 - val_loss: 0.0393\n",
      "Epoch 2/200\n",
      "27/27 [==============================] - 1s 25ms/step - loss: 0.0563 - val_loss: 0.3389\n",
      "Epoch 3/200\n",
      "27/27 [==============================] - 1s 24ms/step - loss: 0.0246 - val_loss: 1.1555\n",
      "Epoch 4/200\n",
      "27/27 [==============================] - 1s 25ms/step - loss: 0.0235 - val_loss: 1.9744\n",
      "Epoch 5/200\n",
      "27/27 [==============================] - 1s 24ms/step - loss: 0.0131 - val_loss: 3.0317\n",
      "Epoch 6/200\n",
      "27/27 [==============================] - 1s 25ms/step - loss: 0.0109 - val_loss: 4.2581\n",
      "Epoch 7/200\n",
      "27/27 [==============================] - 1s 24ms/step - loss: 0.0087 - val_loss: 5.4226\n",
      "Epoch 8/200\n",
      "27/27 [==============================] - 1s 24ms/step - loss: 0.0096 - val_loss: 6.1812\n",
      "Epoch 9/200\n",
      "27/27 [==============================] - 1s 25ms/step - loss: 0.0092 - val_loss: 7.0604\n",
      "Epoch 10/200\n",
      "27/27 [==============================] - 1s 25ms/step - loss: 0.0085 - val_loss: 7.2610\n",
      "Epoch 11/200\n",
      "27/27 [==============================] - 1s 24ms/step - loss: 0.0076 - val_loss: 6.4410\n",
      "Epoch 12/200\n",
      "27/27 [==============================] - 1s 24ms/step - loss: 0.0075 - val_loss: 4.7085\n",
      "Epoch 13/200\n",
      "27/27 [==============================] - 1s 25ms/step - loss: 0.0073 - val_loss: 3.2484\n",
      "Epoch 14/200\n",
      "27/27 [==============================] - 1s 25ms/step - loss: 0.0057 - val_loss: 1.7862\n",
      "Epoch 15/200\n",
      "27/27 [==============================] - 1s 24ms/step - loss: 0.0064 - val_loss: 0.8299\n",
      "Epoch 16/200\n",
      "27/27 [==============================] - 1s 24ms/step - loss: 0.0048 - val_loss: 0.2288\n",
      "Epoch 17/200\n",
      "27/27 [==============================] - 1s 25ms/step - loss: 0.0053 - val_loss: 0.0628\n",
      "Epoch 18/200\n",
      "27/27 [==============================] - 1s 24ms/step - loss: 0.0047 - val_loss: 0.0172\n",
      "Epoch 19/200\n",
      "27/27 [==============================] - 1s 24ms/step - loss: 0.0059 - val_loss: 0.0077\n",
      "Epoch 20/200\n",
      "27/27 [==============================] - 1s 24ms/step - loss: 0.0045 - val_loss: 0.0064\n",
      "Epoch 21/200\n",
      "27/27 [==============================] - 1s 28ms/step - loss: 0.0046 - val_loss: 0.0054\n",
      "Epoch 22/200\n",
      "27/27 [==============================] - 1s 25ms/step - loss: 0.0029 - val_loss: 0.0053\n",
      "Epoch 23/200\n",
      "27/27 [==============================] - 1s 25ms/step - loss: 0.0036 - val_loss: 0.0049\n",
      "Epoch 24/200\n",
      "27/27 [==============================] - 1s 25ms/step - loss: 0.0029 - val_loss: 0.0048\n",
      "Epoch 25/200\n",
      "27/27 [==============================] - 1s 25ms/step - loss: 0.0050 - val_loss: 0.0046\n",
      "Epoch 26/200\n",
      "27/27 [==============================] - 1s 25ms/step - loss: 0.0031 - val_loss: 0.0046\n",
      "Epoch 27/200\n",
      "27/27 [==============================] - 1s 25ms/step - loss: 0.0030 - val_loss: 0.0044\n",
      "Epoch 28/200\n",
      "27/27 [==============================] - 1s 24ms/step - loss: 0.0034 - val_loss: 0.0042\n",
      "Epoch 29/200\n",
      "27/27 [==============================] - 1s 25ms/step - loss: 0.0030 - val_loss: 0.0040\n",
      "Epoch 30/200\n",
      "27/27 [==============================] - 1s 25ms/step - loss: 0.0048 - val_loss: 0.0041\n",
      "Epoch 31/200\n",
      "27/27 [==============================] - 1s 25ms/step - loss: 0.0032 - val_loss: 0.0042\n",
      "Epoch 32/200\n",
      "27/27 [==============================] - 1s 25ms/step - loss: 0.0028 - val_loss: 0.0041\n",
      "Epoch 33/200\n",
      "27/27 [==============================] - 1s 24ms/step - loss: 0.0034 - val_loss: 0.0038\n",
      "Epoch 34/200\n",
      "27/27 [==============================] - 1s 24ms/step - loss: 0.0023 - val_loss: 0.0038\n",
      "Epoch 35/200\n",
      "27/27 [==============================] - 1s 25ms/step - loss: 0.0021 - val_loss: 0.0036\n",
      "Epoch 36/200\n",
      "27/27 [==============================] - 1s 24ms/step - loss: 0.0024 - val_loss: 0.0035\n",
      "Epoch 37/200\n",
      "27/27 [==============================] - 1s 26ms/step - loss: 0.0033 - val_loss: 0.0034\n",
      "Epoch 38/200\n",
      "27/27 [==============================] - 1s 25ms/step - loss: 0.0033 - val_loss: 0.0032\n",
      "Epoch 39/200\n",
      "27/27 [==============================] - 1s 25ms/step - loss: 0.0032 - val_loss: 0.0032\n",
      "Epoch 40/200\n",
      "27/27 [==============================] - 1s 25ms/step - loss: 0.0032 - val_loss: 0.0030\n",
      "Epoch 41/200\n",
      "27/27 [==============================] - 1s 25ms/step - loss: 0.0017 - val_loss: 0.0033\n",
      "Epoch 42/200\n",
      "27/27 [==============================] - 1s 24ms/step - loss: 0.0026 - val_loss: 0.0031\n",
      "Epoch 43/200\n",
      "27/27 [==============================] - 1s 25ms/step - loss: 0.0019 - val_loss: 0.0030\n",
      "Epoch 44/200\n",
      "27/27 [==============================] - 1s 25ms/step - loss: 0.0018 - val_loss: 0.0030\n",
      "Epoch 45/200\n",
      "27/27 [==============================] - 1s 25ms/step - loss: 0.0019 - val_loss: 0.0028\n",
      "Epoch 46/200\n",
      "27/27 [==============================] - 1s 24ms/step - loss: 0.0019 - val_loss: 0.0028\n",
      "Epoch 47/200\n",
      "27/27 [==============================] - 1s 25ms/step - loss: 0.0053 - val_loss: 0.0030\n",
      "Epoch 48/200\n",
      "27/27 [==============================] - 1s 24ms/step - loss: 0.0015 - val_loss: 0.0030\n",
      "Epoch 49/200\n",
      "27/27 [==============================] - 1s 24ms/step - loss: 0.0017 - val_loss: 0.0030\n",
      "Epoch 50/200\n",
      "27/27 [==============================] - 1s 25ms/step - loss: 0.0017 - val_loss: 0.0027\n",
      "Epoch 51/200\n",
      "27/27 [==============================] - 1s 26ms/step - loss: 0.0019 - val_loss: 0.0028\n",
      "Epoch 52/200\n",
      "27/27 [==============================] - 1s 25ms/step - loss: 0.0029 - val_loss: 0.0025\n",
      "Epoch 53/200\n",
      "27/27 [==============================] - 1s 26ms/step - loss: 0.0018 - val_loss: 0.0025\n",
      "Epoch 54/200\n",
      "27/27 [==============================] - 1s 27ms/step - loss: 0.0021 - val_loss: 0.0023\n",
      "Epoch 55/200\n",
      "27/27 [==============================] - 1s 26ms/step - loss: 0.0014 - val_loss: 0.0023\n",
      "Epoch 56/200\n",
      "27/27 [==============================] - 1s 26ms/step - loss: 0.0012 - val_loss: 0.0022\n",
      "Epoch 57/200\n",
      "27/27 [==============================] - 1s 26ms/step - loss: 0.0017 - val_loss: 0.0022\n",
      "Epoch 58/200\n",
      "27/27 [==============================] - 1s 26ms/step - loss: 0.0014 - val_loss: 0.0021\n",
      "Epoch 59/200\n",
      "27/27 [==============================] - 1s 26ms/step - loss: 0.0027 - val_loss: 0.0021\n",
      "Epoch 60/200\n",
      "27/27 [==============================] - 1s 26ms/step - loss: 9.7077e-04 - val_loss: 0.0020\n",
      "Epoch 61/200\n",
      "27/27 [==============================] - 1s 25ms/step - loss: 0.0015 - val_loss: 0.0020\n",
      "Epoch 62/200\n",
      "27/27 [==============================] - 1s 26ms/step - loss: 0.0014 - val_loss: 0.0020\n",
      "Epoch 63/200\n",
      "27/27 [==============================] - 1s 26ms/step - loss: 0.0012 - val_loss: 0.0021\n",
      "Epoch 64/200\n",
      "27/27 [==============================] - 1s 26ms/step - loss: 0.0030 - val_loss: 0.0020\n",
      "Epoch 65/200\n",
      "27/27 [==============================] - 1s 26ms/step - loss: 0.0016 - val_loss: 0.0021\n",
      "Epoch 66/200\n",
      "27/27 [==============================] - 1s 26ms/step - loss: 0.0013 - val_loss: 0.0020\n",
      "Epoch 67/200\n",
      "27/27 [==============================] - 1s 26ms/step - loss: 0.0015 - val_loss: 0.0019\n",
      "Epoch 68/200\n",
      "27/27 [==============================] - 1s 26ms/step - loss: 0.0021 - val_loss: 0.0021\n",
      "Epoch 69/200\n",
      "27/27 [==============================] - 1s 26ms/step - loss: 0.0014 - val_loss: 0.0020\n",
      "Epoch 70/200\n",
      "27/27 [==============================] - 1s 26ms/step - loss: 8.1502e-04 - val_loss: 0.0020\n",
      "Epoch 71/200\n",
      "27/27 [==============================] - 1s 26ms/step - loss: 7.4575e-04 - val_loss: 0.0020\n",
      "Epoch 72/200\n",
      "27/27 [==============================] - 1s 26ms/step - loss: 0.0011 - val_loss: 0.0020\n",
      "Epoch 73/200\n",
      "27/27 [==============================] - 1s 27ms/step - loss: 8.5788e-04 - val_loss: 0.0020\n",
      "Epoch 74/200\n",
      "27/27 [==============================] - 1s 26ms/step - loss: 7.7038e-04 - val_loss: 0.0020\n",
      "Epoch 75/200\n",
      "27/27 [==============================] - 1s 26ms/step - loss: 0.0010 - val_loss: 0.0021\n",
      "Epoch 76/200\n",
      "27/27 [==============================] - 1s 26ms/step - loss: 6.4725e-04 - val_loss: 0.0020\n",
      "Epoch 77/200\n",
      "27/27 [==============================] - 1s 27ms/step - loss: 7.2354e-04 - val_loss: 0.0020\n",
      "Epoch 78/200\n",
      "27/27 [==============================] - 1s 26ms/step - loss: 9.2300e-04 - val_loss: 0.0020\n",
      "Epoch 79/200\n",
      "27/27 [==============================] - 1s 26ms/step - loss: 7.0306e-04 - val_loss: 0.0020\n",
      "Epoch 80/200\n",
      "27/27 [==============================] - 1s 28ms/step - loss: 0.0012 - val_loss: 0.0020\n",
      "Epoch 81/200\n",
      "27/27 [==============================] - 1s 26ms/step - loss: 5.8528e-04 - val_loss: 0.0021\n"
     ]
    },
    {
     "name": "stdout",
     "output_type": "stream",
     "text": [
      "Epoch 82/200\n",
      "27/27 [==============================] - 1s 25ms/step - loss: 6.1449e-04 - val_loss: 0.0020\n",
      "Epoch 83/200\n",
      "27/27 [==============================] - 1s 25ms/step - loss: 7.0620e-04 - val_loss: 0.0020\n",
      "Epoch 84/200\n",
      "27/27 [==============================] - 1s 25ms/step - loss: 7.1324e-04 - val_loss: 0.0019\n",
      "Epoch 85/200\n",
      "27/27 [==============================] - 1s 25ms/step - loss: 4.6665e-04 - val_loss: 0.0020\n",
      "Epoch 86/200\n",
      "27/27 [==============================] - 1s 25ms/step - loss: 0.0013 - val_loss: 0.0020\n",
      "Epoch 87/200\n",
      "27/27 [==============================] - 1s 29ms/step - loss: 6.8196e-04 - val_loss: 0.0019\n",
      "Epoch 88/200\n",
      "27/27 [==============================] - 1s 26ms/step - loss: 8.8051e-04 - val_loss: 0.0019\n",
      "Epoch 89/200\n",
      "27/27 [==============================] - 1s 25ms/step - loss: 5.7903e-04 - val_loss: 0.0019\n",
      "Epoch 90/200\n",
      "27/27 [==============================] - 1s 25ms/step - loss: 4.7599e-04 - val_loss: 0.0018\n",
      "Epoch 91/200\n",
      "27/27 [==============================] - 1s 24ms/step - loss: 0.0012 - val_loss: 0.0019\n",
      "Epoch 92/200\n",
      "27/27 [==============================] - 1s 24ms/step - loss: 8.6056e-04 - val_loss: 0.0019\n",
      "Epoch 93/200\n",
      "27/27 [==============================] - 1s 24ms/step - loss: 0.0014 - val_loss: 0.0023\n",
      "Epoch 94/200\n",
      "27/27 [==============================] - 1s 24ms/step - loss: 8.2693e-04 - val_loss: 0.0021\n",
      "Epoch 95/200\n",
      "27/27 [==============================] - 1s 24ms/step - loss: 6.1664e-04 - val_loss: 0.0021\n",
      "Epoch 96/200\n",
      "27/27 [==============================] - 1s 24ms/step - loss: 4.7660e-04 - val_loss: 0.0021\n",
      "Epoch 97/200\n",
      "27/27 [==============================] - 1s 24ms/step - loss: 7.3581e-04 - val_loss: 0.0020\n",
      "Epoch 98/200\n",
      "27/27 [==============================] - 1s 25ms/step - loss: 7.0891e-04 - val_loss: 0.0019\n",
      "Epoch 99/200\n",
      "27/27 [==============================] - 1s 24ms/step - loss: 7.8148e-04 - val_loss: 0.0018\n",
      "Epoch 100/200\n",
      "27/27 [==============================] - 1s 24ms/step - loss: 0.0015 - val_loss: 0.0019\n",
      "Epoch 101/200\n",
      "27/27 [==============================] - 1s 25ms/step - loss: 0.0014 - val_loss: 0.0018\n",
      "Epoch 102/200\n",
      "27/27 [==============================] - 1s 25ms/step - loss: 0.0013 - val_loss: 0.0019\n",
      "Epoch 103/200\n",
      "27/27 [==============================] - 1s 25ms/step - loss: 7.9062e-04 - val_loss: 0.0020\n",
      "Epoch 104/200\n",
      "27/27 [==============================] - 1s 25ms/step - loss: 8.8597e-04 - val_loss: 0.0019\n",
      "Epoch 105/200\n",
      "27/27 [==============================] - 1s 24ms/step - loss: 4.7408e-04 - val_loss: 0.0020\n",
      "Epoch 106/200\n",
      "27/27 [==============================] - 1s 24ms/step - loss: 3.8370e-04 - val_loss: 0.0019\n",
      "Epoch 107/200\n",
      "27/27 [==============================] - 1s 24ms/step - loss: 5.4775e-04 - val_loss: 0.0019\n",
      "Epoch 108/200\n",
      "27/27 [==============================] - 1s 25ms/step - loss: 3.4397e-04 - val_loss: 0.0019\n",
      "Epoch 109/200\n",
      "27/27 [==============================] - 1s 24ms/step - loss: 6.0721e-04 - val_loss: 0.0019\n",
      "Epoch 110/200\n",
      "27/27 [==============================] - 1s 25ms/step - loss: 3.8928e-04 - val_loss: 0.0019\n",
      "Epoch 111/200\n",
      "27/27 [==============================] - 1s 24ms/step - loss: 5.1058e-04 - val_loss: 0.0019\n",
      "Epoch 112/200\n",
      "27/27 [==============================] - 1s 24ms/step - loss: 3.5393e-04 - val_loss: 0.0019\n",
      "Epoch 113/200\n",
      "27/27 [==============================] - 1s 25ms/step - loss: 5.9193e-04 - val_loss: 0.0019\n",
      "Epoch 114/200\n",
      "27/27 [==============================] - 1s 25ms/step - loss: 0.0021 - val_loss: 0.0020\n",
      "Epoch 115/200\n",
      "27/27 [==============================] - 1s 25ms/step - loss: 4.1234e-04 - val_loss: 0.0018\n",
      "Epoch 116/200\n",
      "27/27 [==============================] - 1s 24ms/step - loss: 5.9508e-04 - val_loss: 0.0018\n",
      "Epoch 117/200\n",
      "27/27 [==============================] - 1s 26ms/step - loss: 7.6488e-04 - val_loss: 0.0017\n",
      "Epoch 118/200\n",
      "27/27 [==============================] - 1s 28ms/step - loss: 0.0014 - val_loss: 0.0019\n",
      "Epoch 119/200\n",
      "27/27 [==============================] - 1s 25ms/step - loss: 4.9147e-04 - val_loss: 0.0017\n",
      "Epoch 120/200\n",
      "27/27 [==============================] - 1s 24ms/step - loss: 9.2853e-04 - val_loss: 0.0017\n",
      "Epoch 121/200\n",
      "27/27 [==============================] - 1s 25ms/step - loss: 3.8784e-04 - val_loss: 0.0017\n",
      "Epoch 122/200\n",
      "27/27 [==============================] - 1s 24ms/step - loss: 5.0143e-04 - val_loss: 0.0017\n",
      "Epoch 123/200\n",
      "27/27 [==============================] - 1s 25ms/step - loss: 2.8961e-04 - val_loss: 0.0017\n",
      "Epoch 124/200\n",
      "27/27 [==============================] - 1s 24ms/step - loss: 4.8109e-04 - val_loss: 0.0017\n",
      "Epoch 125/200\n",
      "27/27 [==============================] - 1s 24ms/step - loss: 3.3633e-04 - val_loss: 0.0018\n",
      "Epoch 126/200\n",
      "27/27 [==============================] - 1s 25ms/step - loss: 4.5839e-04 - val_loss: 0.0018\n",
      "Epoch 127/200\n",
      "27/27 [==============================] - 1s 24ms/step - loss: 5.6426e-04 - val_loss: 0.0018\n",
      "Epoch 128/200\n",
      "27/27 [==============================] - 1s 24ms/step - loss: 4.0934e-04 - val_loss: 0.0018\n",
      "Epoch 129/200\n",
      "27/27 [==============================] - 1s 25ms/step - loss: 2.8136e-04 - val_loss: 0.0019\n",
      "Epoch 130/200\n",
      "27/27 [==============================] - 1s 24ms/step - loss: 5.2647e-04 - val_loss: 0.0019\n",
      "Epoch 131/200\n",
      "27/27 [==============================] - 1s 24ms/step - loss: 3.8365e-04 - val_loss: 0.0018\n",
      "Epoch 132/200\n",
      "27/27 [==============================] - 1s 25ms/step - loss: 3.7554e-04 - val_loss: 0.0018\n",
      "Epoch 133/200\n",
      "27/27 [==============================] - 1s 24ms/step - loss: 4.5603e-04 - val_loss: 0.0018\n",
      "Epoch 134/200\n",
      "27/27 [==============================] - 1s 24ms/step - loss: 2.4638e-04 - val_loss: 0.0017\n",
      "Epoch 135/200\n",
      "27/27 [==============================] - 1s 24ms/step - loss: 0.0012 - val_loss: 0.0018\n",
      "Epoch 136/200\n",
      "27/27 [==============================] - 1s 25ms/step - loss: 3.9590e-04 - val_loss: 0.0019\n",
      "Epoch 137/200\n",
      "27/27 [==============================] - 1s 26ms/step - loss: 6.8978e-04 - val_loss: 0.0018\n",
      "Epoch 138/200\n",
      "27/27 [==============================] - 1s 26ms/step - loss: 4.9677e-04 - val_loss: 0.0019\n",
      "Epoch 139/200\n",
      "27/27 [==============================] - 1s 24ms/step - loss: 0.0014 - val_loss: 0.0019\n",
      "Epoch 140/200\n",
      "27/27 [==============================] - 1s 24ms/step - loss: 3.4303e-04 - val_loss: 0.0019\n",
      "Epoch 141/200\n",
      "27/27 [==============================] - 1s 24ms/step - loss: 2.6694e-04 - val_loss: 0.0019\n",
      "Epoch 142/200\n",
      "27/27 [==============================] - 1s 24ms/step - loss: 2.9641e-04 - val_loss: 0.0019\n",
      "Epoch 143/200\n",
      "27/27 [==============================] - 1s 24ms/step - loss: 0.0018 - val_loss: 0.0020\n",
      "Epoch 144/200\n",
      "27/27 [==============================] - 1s 26ms/step - loss: 4.3707e-04 - val_loss: 0.0021\n",
      "Epoch 145/200\n",
      "27/27 [==============================] - 1s 24ms/step - loss: 7.5002e-04 - val_loss: 0.0019\n",
      "Epoch 146/200\n",
      "27/27 [==============================] - 1s 24ms/step - loss: 0.0011 - val_loss: 0.0020\n",
      "Epoch 147/200\n",
      "27/27 [==============================] - 1s 24ms/step - loss: 3.0885e-04 - val_loss: 0.0020\n",
      "Epoch 148/200\n",
      "27/27 [==============================] - 1s 24ms/step - loss: 8.1910e-04 - val_loss: 0.0020\n",
      "Epoch 149/200\n",
      "27/27 [==============================] - 1s 25ms/step - loss: 3.7158e-04 - val_loss: 0.0021\n",
      "Epoch 150/200\n",
      "27/27 [==============================] - 1s 24ms/step - loss: 3.0380e-04 - val_loss: 0.0020\n",
      "Epoch 151/200\n",
      "27/27 [==============================] - 1s 25ms/step - loss: 2.4351e-04 - val_loss: 0.0020\n",
      "Epoch 152/200\n",
      "27/27 [==============================] - 1s 26ms/step - loss: 3.5284e-04 - val_loss: 0.0020\n",
      "Epoch 153/200\n",
      "27/27 [==============================] - 1s 25ms/step - loss: 6.4374e-04 - val_loss: 0.0020\n",
      "Epoch 154/200\n",
      "27/27 [==============================] - 1s 24ms/step - loss: 2.3284e-04 - val_loss: 0.0020\n",
      "Epoch 155/200\n",
      "27/27 [==============================] - 1s 25ms/step - loss: 2.1791e-04 - val_loss: 0.0019\n",
      "Epoch 156/200\n",
      "27/27 [==============================] - 1s 24ms/step - loss: 3.8564e-04 - val_loss: 0.0019\n",
      "Epoch 157/200\n",
      "27/27 [==============================] - 1s 25ms/step - loss: 3.0425e-04 - val_loss: 0.0019\n",
      "Epoch 158/200\n",
      "27/27 [==============================] - 1s 24ms/step - loss: 3.6417e-04 - val_loss: 0.0020\n",
      "Epoch 159/200\n",
      "27/27 [==============================] - 1s 24ms/step - loss: 2.9100e-04 - val_loss: 0.0020\n"
     ]
    },
    {
     "name": "stdout",
     "output_type": "stream",
     "text": [
      "Epoch 160/200\n",
      "27/27 [==============================] - 1s 24ms/step - loss: 3.2513e-04 - val_loss: 0.0020\n",
      "Epoch 161/200\n",
      "27/27 [==============================] - 1s 24ms/step - loss: 0.0011 - val_loss: 0.0020\n",
      "Epoch 162/200\n",
      "27/27 [==============================] - 1s 25ms/step - loss: 5.5670e-04 - val_loss: 0.0022\n",
      "Epoch 163/200\n",
      "27/27 [==============================] - 1s 24ms/step - loss: 0.0010 - val_loss: 0.0018\n",
      "Epoch 164/200\n",
      "27/27 [==============================] - 1s 24ms/step - loss: 6.0196e-04 - val_loss: 0.0019\n",
      "Epoch 165/200\n",
      "27/27 [==============================] - 1s 24ms/step - loss: 4.0037e-04 - val_loss: 0.0018\n",
      "Epoch 166/200\n",
      "27/27 [==============================] - 1s 24ms/step - loss: 3.8924e-04 - val_loss: 0.0019\n",
      "Epoch 167/200\n",
      "27/27 [==============================] - 1s 24ms/step - loss: 0.0012 - val_loss: 0.0022\n",
      "Epoch 168/200\n",
      "27/27 [==============================] - 1s 25ms/step - loss: 2.5623e-04 - val_loss: 0.0021\n",
      "Epoch 169/200\n",
      "27/27 [==============================] - 1s 24ms/step - loss: 5.6391e-04 - val_loss: 0.0021\n",
      "Epoch 170/200\n",
      "27/27 [==============================] - 1s 27ms/step - loss: 4.5506e-04 - val_loss: 0.0022\n",
      "Epoch 171/200\n",
      "27/27 [==============================] - 1s 24ms/step - loss: 7.2952e-04 - val_loss: 0.0022\n",
      "Epoch 172/200\n",
      "27/27 [==============================] - 1s 25ms/step - loss: 3.5319e-04 - val_loss: 0.0021\n",
      "Epoch 173/200\n",
      "27/27 [==============================] - 1s 24ms/step - loss: 3.3029e-04 - val_loss: 0.0020\n",
      "Epoch 174/200\n",
      "27/27 [==============================] - 1s 25ms/step - loss: 2.1703e-04 - val_loss: 0.0019\n",
      "Epoch 175/200\n",
      "27/27 [==============================] - 1s 25ms/step - loss: 4.3787e-04 - val_loss: 0.0020\n",
      "Epoch 176/200\n",
      "27/27 [==============================] - 1s 24ms/step - loss: 2.8470e-04 - val_loss: 0.0018\n",
      "Epoch 177/200\n",
      "27/27 [==============================] - 1s 24ms/step - loss: 6.5245e-04 - val_loss: 0.0020\n",
      "Epoch 178/200\n",
      "27/27 [==============================] - 1s 24ms/step - loss: 2.1877e-04 - val_loss: 0.0020\n",
      "Epoch 179/200\n",
      "27/27 [==============================] - 1s 24ms/step - loss: 2.5540e-04 - val_loss: 0.0020\n",
      "Epoch 180/200\n",
      "27/27 [==============================] - 1s 24ms/step - loss: 2.3921e-04 - val_loss: 0.0020\n",
      "Epoch 181/200\n",
      "27/27 [==============================] - 1s 25ms/step - loss: 2.3164e-04 - val_loss: 0.0022\n",
      "Epoch 182/200\n",
      "27/27 [==============================] - 1s 25ms/step - loss: 3.2014e-04 - val_loss: 0.0021\n",
      "Epoch 183/200\n",
      "27/27 [==============================] - 1s 25ms/step - loss: 4.8934e-04 - val_loss: 0.0019\n",
      "Epoch 184/200\n",
      "27/27 [==============================] - 1s 24ms/step - loss: 2.9685e-04 - val_loss: 0.0019\n",
      "Epoch 185/200\n",
      "27/27 [==============================] - 1s 25ms/step - loss: 3.5998e-04 - val_loss: 0.0019\n",
      "Epoch 186/200\n",
      "27/27 [==============================] - 1s 25ms/step - loss: 2.7133e-04 - val_loss: 0.0020\n",
      "Epoch 187/200\n",
      "27/27 [==============================] - 1s 25ms/step - loss: 1.6780e-04 - val_loss: 0.0019\n",
      "Epoch 188/200\n",
      "27/27 [==============================] - 1s 24ms/step - loss: 2.3099e-04 - val_loss: 0.0020\n",
      "Epoch 189/200\n",
      "27/27 [==============================] - 1s 24ms/step - loss: 3.1210e-04 - val_loss: 0.0021\n",
      "Epoch 190/200\n",
      "27/27 [==============================] - 1s 25ms/step - loss: 4.8235e-04 - val_loss: 0.0020\n",
      "Epoch 191/200\n",
      "27/27 [==============================] - 1s 24ms/step - loss: 2.4204e-04 - val_loss: 0.0020\n",
      "Epoch 192/200\n",
      "27/27 [==============================] - 1s 24ms/step - loss: 2.5058e-04 - val_loss: 0.0021\n",
      "Epoch 193/200\n",
      "27/27 [==============================] - 1s 25ms/step - loss: 4.3839e-04 - val_loss: 0.0021\n",
      "Epoch 194/200\n",
      "27/27 [==============================] - 1s 25ms/step - loss: 7.5784e-04 - val_loss: 0.0021\n",
      "Epoch 195/200\n",
      "27/27 [==============================] - 1s 25ms/step - loss: 3.8787e-04 - val_loss: 0.0021\n",
      "Epoch 196/200\n",
      "27/27 [==============================] - 1s 25ms/step - loss: 5.7920e-04 - val_loss: 0.0021\n",
      "Epoch 197/200\n",
      "27/27 [==============================] - 1s 25ms/step - loss: 2.8549e-04 - val_loss: 0.0022\n",
      "Epoch 198/200\n",
      "27/27 [==============================] - 1s 25ms/step - loss: 2.3217e-04 - val_loss: 0.0022\n",
      "Epoch 199/200\n",
      "27/27 [==============================] - 1s 26ms/step - loss: 0.0011 - val_loss: 0.0021\n",
      "Epoch 200/200\n",
      "27/27 [==============================] - 1s 24ms/step - loss: 7.6043e-04 - val_loss: 0.0023\n"
     ]
    },
    {
     "data": {
      "text/plain": [
       "<tensorflow.python.keras.callbacks.History at 0x1c529b71a90>"
      ]
     },
     "execution_count": 22,
     "metadata": {},
     "output_type": "execute_result"
    }
   ],
   "source": [
    "model.fit(x=[trainAttrX, trainImagesX], y=trainY, validation_split=0.2, epochs=200, batch_size=8)"
   ]
  },
  {
   "cell_type": "markdown",
   "id": "e7acf469",
   "metadata": {},
   "source": [
    "# Step 8 : Predicting results and Evaluating the Model"
   ]
  },
  {
   "cell_type": "code",
   "execution_count": 23,
   "id": "d214b39f",
   "metadata": {},
   "outputs": [],
   "source": [
    "preds = model.predict([testAttrX, testImagesX])\n",
    "\n",
    "final_test = testY.values.reshape(len(testY),1).tolist()\n",
    "preds_ = np.array(preds).reshape(len(preds),1).tolist()"
   ]
  },
  {
   "cell_type": "code",
   "execution_count": 24,
   "id": "bc196eba",
   "metadata": {},
   "outputs": [
    {
     "name": "stdout",
     "output_type": "stream",
     "text": [
      "0.7850444076998642\n"
     ]
    }
   ],
   "source": [
    "from sklearn.metrics import r2_score\n",
    "print(r2_score(final_test, preds_))"
   ]
  }
 ],
 "metadata": {
  "kernelspec": {
   "display_name": "Python 3",
   "language": "python",
   "name": "python3"
  },
  "language_info": {
   "codemirror_mode": {
    "name": "ipython",
    "version": 3
   },
   "file_extension": ".py",
   "mimetype": "text/x-python",
   "name": "python",
   "nbconvert_exporter": "python",
   "pygments_lexer": "ipython3",
   "version": "3.8.8"
  }
 },
 "nbformat": 4,
 "nbformat_minor": 5
}
